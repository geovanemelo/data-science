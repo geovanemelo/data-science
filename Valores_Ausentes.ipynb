{
  "nbformat": 4,
  "nbformat_minor": 0,
  "metadata": {
    "colab": {
      "name": "Valores Ausentes",
      "provenance": [],
      "authorship_tag": "ABX9TyOBFfk4DziXVUGlh4zJ5osp",
      "include_colab_link": true
    },
    "kernelspec": {
      "name": "python3",
      "display_name": "Python 3"
    }
  },
  "cells": [
    {
      "cell_type": "markdown",
      "metadata": {
        "id": "view-in-github",
        "colab_type": "text"
      },
      "source": [
        "<a href=\"https://colab.research.google.com/github/geovanemelo/data-science/blob/main/Valores_Ausentes.ipynb\" target=\"_parent\"><img src=\"https://colab.research.google.com/assets/colab-badge.svg\" alt=\"Open In Colab\"/></a>"
      ]
    },
    {
      "cell_type": "markdown",
      "metadata": {
        "id": "SxlLkahheWcs"
      },
      "source": [
        "\r\n",
        "# Valores Ausentes\r\n",
        "\r\n",
        "Se você está lidando com bases de dados do mundo real, pode ter certeza que estará lidando com dados incompletos ou valores ausentes.\r\n",
        "\r\n",
        "Muitas vezes esses dados são inseridos por pessoas, manualmente. Há casos em que você já tinha séries históricas de anos, e em determinado momento alguém resolveu adicionar uma nova coluna.\r\n",
        "\r\n",
        "Existem inúmeras técnicas para lidar com esse tipo de problema, e nesta aula vamos falar de duas das principais abordagens.\r\n",
        "\r\n",
        "Antes, vamos importar os dados do Projeto +BIKE."
      ]
    },
    {
      "cell_type": "code",
      "metadata": {
        "colab": {
          "base_uri": "https://localhost:8080/",
          "height": 289
        },
        "id": "TEwny_nJejlt",
        "outputId": "334cf8f0-c844-43cf-b2de-08fc56f92264"
      },
      "source": [
        "DATA_PATH = \"http://dl.dropboxusercontent.com/s/yyfeoxqw61o3iel/df_rides.csv\"\r\n",
        "\r\n",
        "#importando pandas\r\n",
        "import pandas as pd\r\n",
        "\r\n",
        "#importando o dataset\r\n",
        "df = pd.read_csv(DATA_PATH)\r\n",
        "\r\n",
        "#primeiras entradas\r\n",
        "df.head()"
      ],
      "execution_count": 2,
      "outputs": [
        {
          "output_type": "execute_result",
          "data": {
            "text/html": [
              "<div>\n",
              "<style scoped>\n",
              "    .dataframe tbody tr th:only-of-type {\n",
              "        vertical-align: middle;\n",
              "    }\n",
              "\n",
              "    .dataframe tbody tr th {\n",
              "        vertical-align: top;\n",
              "    }\n",
              "\n",
              "    .dataframe thead th {\n",
              "        text-align: right;\n",
              "    }\n",
              "</style>\n",
              "<table border=\"1\" class=\"dataframe\">\n",
              "  <thead>\n",
              "    <tr style=\"text-align: right;\">\n",
              "      <th></th>\n",
              "      <th>user_gender</th>\n",
              "      <th>user_birthdate</th>\n",
              "      <th>user_residence</th>\n",
              "      <th>ride_date</th>\n",
              "      <th>time_start</th>\n",
              "      <th>time_end</th>\n",
              "      <th>station_start</th>\n",
              "      <th>station_end</th>\n",
              "      <th>ride_duration</th>\n",
              "      <th>ride_late</th>\n",
              "    </tr>\n",
              "  </thead>\n",
              "  <tbody>\n",
              "    <tr>\n",
              "      <th>0</th>\n",
              "      <td>M</td>\n",
              "      <td>1971-06-08</td>\n",
              "      <td>NaN</td>\n",
              "      <td>2018-01-01</td>\n",
              "      <td>06:05:18</td>\n",
              "      <td>06:21:33</td>\n",
              "      <td>11 - Rodoviária 2</td>\n",
              "      <td>41 - Instituto de Artes</td>\n",
              "      <td>16.250000</td>\n",
              "      <td>0.0</td>\n",
              "    </tr>\n",
              "    <tr>\n",
              "      <th>1</th>\n",
              "      <td>M</td>\n",
              "      <td>1989-02-11</td>\n",
              "      <td>DF</td>\n",
              "      <td>2018-01-01</td>\n",
              "      <td>06:27:01</td>\n",
              "      <td>06:32:17</td>\n",
              "      <td>26 - Ministério da Saude</td>\n",
              "      <td>28 - CNMP - Conselho Nacional do Ministério Pú...</td>\n",
              "      <td>5.266667</td>\n",
              "      <td>0.0</td>\n",
              "    </tr>\n",
              "    <tr>\n",
              "      <th>2</th>\n",
              "      <td>M</td>\n",
              "      <td>1968-07-19</td>\n",
              "      <td>NaN</td>\n",
              "      <td>2018-01-01</td>\n",
              "      <td>06:29:33</td>\n",
              "      <td>06:44:57</td>\n",
              "      <td>11 - Rodoviária 2</td>\n",
              "      <td>43 - Biblioteca Central</td>\n",
              "      <td>15.400000</td>\n",
              "      <td>0.0</td>\n",
              "    </tr>\n",
              "    <tr>\n",
              "      <th>3</th>\n",
              "      <td>M</td>\n",
              "      <td>1991-12-19</td>\n",
              "      <td>NaN</td>\n",
              "      <td>2018-01-01</td>\n",
              "      <td>06:53:53</td>\n",
              "      <td>06:59:45</td>\n",
              "      <td>10 - Ministério dos Transportes</td>\n",
              "      <td>6 - Rodoviária</td>\n",
              "      <td>5.866667</td>\n",
              "      <td>0.0</td>\n",
              "    </tr>\n",
              "    <tr>\n",
              "      <th>4</th>\n",
              "      <td>M</td>\n",
              "      <td>1969-03-03</td>\n",
              "      <td>DF</td>\n",
              "      <td>2018-01-01</td>\n",
              "      <td>06:58:56</td>\n",
              "      <td>17:40:04</td>\n",
              "      <td>15 - Brasil 21</td>\n",
              "      <td>11 - Rodoviária 2</td>\n",
              "      <td>641.133333</td>\n",
              "      <td>1.0</td>\n",
              "    </tr>\n",
              "  </tbody>\n",
              "</table>\n",
              "</div>"
            ],
            "text/plain": [
              "  user_gender user_birthdate  ... ride_duration ride_late\n",
              "0           M     1971-06-08  ...     16.250000       0.0\n",
              "1           M     1989-02-11  ...      5.266667       0.0\n",
              "2           M     1968-07-19  ...     15.400000       0.0\n",
              "3           M     1991-12-19  ...      5.866667       0.0\n",
              "4           M     1969-03-03  ...    641.133333       1.0\n",
              "\n",
              "[5 rows x 10 columns]"
            ]
          },
          "metadata": {
            "tags": []
          },
          "execution_count": 2
        }
      ]
    },
    {
      "cell_type": "markdown",
      "metadata": {
        "id": "66p-J95rfFKX"
      },
      "source": [
        "#IDENTIFICANDO VALORES AUSENTES\r\n",
        "Já vimos anteriormente como identificar valores do tipo NaN. É indispensável identificar a quantidade de valores ausentes e qual a representatividade dessa quantidade frente ao total de entradas"
      ]
    },
    {
      "cell_type": "code",
      "metadata": {
        "colab": {
          "base_uri": "https://localhost:8080/",
          "height": 419
        },
        "id": "_ae3BKD-fa5n",
        "outputId": "a62b140e-83b3-4c4d-cded-634285d4b170"
      },
      "source": [
        "#Ver quantidade de valores ausentes\r\n",
        "df.isnull()"
      ],
      "execution_count": 3,
      "outputs": [
        {
          "output_type": "execute_result",
          "data": {
            "text/html": [
              "<div>\n",
              "<style scoped>\n",
              "    .dataframe tbody tr th:only-of-type {\n",
              "        vertical-align: middle;\n",
              "    }\n",
              "\n",
              "    .dataframe tbody tr th {\n",
              "        vertical-align: top;\n",
              "    }\n",
              "\n",
              "    .dataframe thead th {\n",
              "        text-align: right;\n",
              "    }\n",
              "</style>\n",
              "<table border=\"1\" class=\"dataframe\">\n",
              "  <thead>\n",
              "    <tr style=\"text-align: right;\">\n",
              "      <th></th>\n",
              "      <th>user_gender</th>\n",
              "      <th>user_birthdate</th>\n",
              "      <th>user_residence</th>\n",
              "      <th>ride_date</th>\n",
              "      <th>time_start</th>\n",
              "      <th>time_end</th>\n",
              "      <th>station_start</th>\n",
              "      <th>station_end</th>\n",
              "      <th>ride_duration</th>\n",
              "      <th>ride_late</th>\n",
              "    </tr>\n",
              "  </thead>\n",
              "  <tbody>\n",
              "    <tr>\n",
              "      <th>0</th>\n",
              "      <td>False</td>\n",
              "      <td>False</td>\n",
              "      <td>True</td>\n",
              "      <td>False</td>\n",
              "      <td>False</td>\n",
              "      <td>False</td>\n",
              "      <td>False</td>\n",
              "      <td>False</td>\n",
              "      <td>False</td>\n",
              "      <td>False</td>\n",
              "    </tr>\n",
              "    <tr>\n",
              "      <th>1</th>\n",
              "      <td>False</td>\n",
              "      <td>False</td>\n",
              "      <td>False</td>\n",
              "      <td>False</td>\n",
              "      <td>False</td>\n",
              "      <td>False</td>\n",
              "      <td>False</td>\n",
              "      <td>False</td>\n",
              "      <td>False</td>\n",
              "      <td>False</td>\n",
              "    </tr>\n",
              "    <tr>\n",
              "      <th>2</th>\n",
              "      <td>False</td>\n",
              "      <td>False</td>\n",
              "      <td>True</td>\n",
              "      <td>False</td>\n",
              "      <td>False</td>\n",
              "      <td>False</td>\n",
              "      <td>False</td>\n",
              "      <td>False</td>\n",
              "      <td>False</td>\n",
              "      <td>False</td>\n",
              "    </tr>\n",
              "    <tr>\n",
              "      <th>3</th>\n",
              "      <td>False</td>\n",
              "      <td>False</td>\n",
              "      <td>True</td>\n",
              "      <td>False</td>\n",
              "      <td>False</td>\n",
              "      <td>False</td>\n",
              "      <td>False</td>\n",
              "      <td>False</td>\n",
              "      <td>False</td>\n",
              "      <td>False</td>\n",
              "    </tr>\n",
              "    <tr>\n",
              "      <th>4</th>\n",
              "      <td>False</td>\n",
              "      <td>False</td>\n",
              "      <td>False</td>\n",
              "      <td>False</td>\n",
              "      <td>False</td>\n",
              "      <td>False</td>\n",
              "      <td>False</td>\n",
              "      <td>False</td>\n",
              "      <td>False</td>\n",
              "      <td>False</td>\n",
              "    </tr>\n",
              "    <tr>\n",
              "      <th>...</th>\n",
              "      <td>...</td>\n",
              "      <td>...</td>\n",
              "      <td>...</td>\n",
              "      <td>...</td>\n",
              "      <td>...</td>\n",
              "      <td>...</td>\n",
              "      <td>...</td>\n",
              "      <td>...</td>\n",
              "      <td>...</td>\n",
              "      <td>...</td>\n",
              "    </tr>\n",
              "    <tr>\n",
              "      <th>287317</th>\n",
              "      <td>False</td>\n",
              "      <td>False</td>\n",
              "      <td>False</td>\n",
              "      <td>False</td>\n",
              "      <td>False</td>\n",
              "      <td>False</td>\n",
              "      <td>False</td>\n",
              "      <td>False</td>\n",
              "      <td>False</td>\n",
              "      <td>False</td>\n",
              "    </tr>\n",
              "    <tr>\n",
              "      <th>287318</th>\n",
              "      <td>False</td>\n",
              "      <td>False</td>\n",
              "      <td>True</td>\n",
              "      <td>False</td>\n",
              "      <td>False</td>\n",
              "      <td>False</td>\n",
              "      <td>False</td>\n",
              "      <td>False</td>\n",
              "      <td>False</td>\n",
              "      <td>False</td>\n",
              "    </tr>\n",
              "    <tr>\n",
              "      <th>287319</th>\n",
              "      <td>False</td>\n",
              "      <td>False</td>\n",
              "      <td>False</td>\n",
              "      <td>False</td>\n",
              "      <td>False</td>\n",
              "      <td>False</td>\n",
              "      <td>False</td>\n",
              "      <td>False</td>\n",
              "      <td>False</td>\n",
              "      <td>False</td>\n",
              "    </tr>\n",
              "    <tr>\n",
              "      <th>287320</th>\n",
              "      <td>False</td>\n",
              "      <td>False</td>\n",
              "      <td>True</td>\n",
              "      <td>False</td>\n",
              "      <td>False</td>\n",
              "      <td>False</td>\n",
              "      <td>False</td>\n",
              "      <td>False</td>\n",
              "      <td>False</td>\n",
              "      <td>False</td>\n",
              "    </tr>\n",
              "    <tr>\n",
              "      <th>287321</th>\n",
              "      <td>False</td>\n",
              "      <td>False</td>\n",
              "      <td>True</td>\n",
              "      <td>False</td>\n",
              "      <td>False</td>\n",
              "      <td>False</td>\n",
              "      <td>False</td>\n",
              "      <td>False</td>\n",
              "      <td>False</td>\n",
              "      <td>False</td>\n",
              "    </tr>\n",
              "  </tbody>\n",
              "</table>\n",
              "<p>287322 rows × 10 columns</p>\n",
              "</div>"
            ],
            "text/plain": [
              "        user_gender  user_birthdate  ...  ride_duration  ride_late\n",
              "0             False           False  ...          False      False\n",
              "1             False           False  ...          False      False\n",
              "2             False           False  ...          False      False\n",
              "3             False           False  ...          False      False\n",
              "4             False           False  ...          False      False\n",
              "...             ...             ...  ...            ...        ...\n",
              "287317        False           False  ...          False      False\n",
              "287318        False           False  ...          False      False\n",
              "287319        False           False  ...          False      False\n",
              "287320        False           False  ...          False      False\n",
              "287321        False           False  ...          False      False\n",
              "\n",
              "[287322 rows x 10 columns]"
            ]
          },
          "metadata": {
            "tags": []
          },
          "execution_count": 3
        }
      ]
    },
    {
      "cell_type": "code",
      "metadata": {
        "colab": {
          "base_uri": "https://localhost:8080/"
        },
        "id": "-wKLDIhPgArn",
        "outputId": "42c0e936-0da5-4389-8694-3b8e8a7a7020"
      },
      "source": [
        "#somando para uma visualização mais fácil\r\n",
        "df.isnull().sum()"
      ],
      "execution_count": 4,
      "outputs": [
        {
          "output_type": "execute_result",
          "data": {
            "text/plain": [
              "user_gender          396\n",
              "user_birthdate         1\n",
              "user_residence    179905\n",
              "ride_date              0\n",
              "time_start             0\n",
              "time_end           43285\n",
              "station_start          0\n",
              "station_end            0\n",
              "ride_duration      73174\n",
              "ride_late          73174\n",
              "dtype: int64"
            ]
          },
          "metadata": {
            "tags": []
          },
          "execution_count": 4
        }
      ]
    },
    {
      "cell_type": "code",
      "metadata": {
        "colab": {
          "base_uri": "https://localhost:8080/"
        },
        "id": "a1oXIuSAgkWn",
        "outputId": "3fc6169f-928a-4b47-d97a-cfacc2cff4cd"
      },
      "source": [
        "#ver a porcentagem de dados ausentes\r\n",
        "df.isnull().sum() / df.shape[0]"
      ],
      "execution_count": 5,
      "outputs": [
        {
          "output_type": "execute_result",
          "data": {
            "text/plain": [
              "user_gender       0.001378\n",
              "user_birthdate    0.000003\n",
              "user_residence    0.626144\n",
              "ride_date         0.000000\n",
              "time_start        0.000000\n",
              "time_end          0.150650\n",
              "station_start     0.000000\n",
              "station_end       0.000000\n",
              "ride_duration     0.254676\n",
              "ride_late         0.254676\n",
              "dtype: float64"
            ]
          },
          "metadata": {
            "tags": []
          },
          "execution_count": 5
        }
      ]
    },
    {
      "cell_type": "markdown",
      "metadata": {
        "id": "ZeR9S8mqg7qo"
      },
      "source": [
        "#Excluir valores ausentes\r\n",
        "Está é uma primeira opção quando você está lidando com valores nulos do tipo NaN no seu DataFrame.\r\n",
        "\r\n",
        "Entretanto, ela tende a não ser ideal, pois por causa do valor de uma única célula, você elimina os dados existentes em outras colunas. Esta opção deve ser considerada no caso da quantidade de dados nulos serem pequenos a ponto de não ter representatividade no dataset\r\n",
        "\r\n",
        "Eu consigo excluir tanto linhas com valores ausentes quanto colunas inteiras. Para que o Pandas saiba se a sua inteção é de eliminar linhas (axis=0) ou colunas (axis=1), você deve informar dentro do método dropna()."
      ]
    },
    {
      "cell_type": "code",
      "metadata": {
        "id": "aEucZ6R4hBVV"
      },
      "source": [
        "# eliminando todas as entradas onde existem valores ausentes em \"user gender\"\r\n",
        "df_clean = df.dropna(subset=['user_gender'], axis=0)"
      ],
      "execution_count": 6,
      "outputs": []
    },
    {
      "cell_type": "code",
      "metadata": {
        "colab": {
          "base_uri": "https://localhost:8080/"
        },
        "id": "qfyuVvRhh0dD",
        "outputId": "16164b78-de3c-4fe4-f3ca-41833b8dccaf"
      },
      "source": [
        "#comparando antes e o depois\r\n",
        "print(\"Antes:\\t{}\".format(df.shape))\r\n",
        "print(\"Depois:\\t{}\".format(df_clean.shape))\r\n",
        "sub = df.shape[0] - df_clean.shape[0]\r\n",
        "print(\"O dataset apos o dropna perdeu {} entradas\".format(sub))"
      ],
      "execution_count": 12,
      "outputs": [
        {
          "output_type": "stream",
          "text": [
            "Antes:\t(287322, 10)\n",
            "Depois:\t(286926, 10)\n",
            "O dataset apos o dropna perdeu 396 entradas\n"
          ],
          "name": "stdout"
        }
      ]
    },
    {
      "cell_type": "code",
      "metadata": {
        "id": "X8p_C4l3jDvq"
      },
      "source": [
        "## Preencher valores\r\n",
        "\r\n",
        "Esta normalmente é a melhor opção, pois permite que você mantenha dados existentes em outras células.\r\n",
        "\r\n",
        "Uma pergunta que normalmente surge é: \"mas eu substituo o valor ausente por qual valor?\". A resposta para essa pergunta é: depende.\r\n",
        "\r\n",
        "Existem técnicas simples como usar valor mais frequente, media e mediana, assim como há técnicas mais avançadas que envolvem até mesmo o uso de modelos de *machine learning* cuja função é dizer qual valor usar nesses campos.\r\n",
        "\r\n",
        "Vou mostrar como você pode usar a mediana para preencher os campos ausentes da coluna `ride_duration`, com o uso da função `fillna()`"
      ],
      "execution_count": null,
      "outputs": []
    },
    {
      "cell_type": "code",
      "metadata": {
        "colab": {
          "base_uri": "https://localhost:8080/"
        },
        "id": "OXeCIva1jcaa",
        "outputId": "ebd3fa1e-a08a-4138-8638-80cda5d9428c"
      },
      "source": [
        "#antes\r\n",
        "df_clean.isnull().sum()"
      ],
      "execution_count": 14,
      "outputs": [
        {
          "output_type": "execute_result",
          "data": {
            "text/plain": [
              "user_gender            0\n",
              "user_birthdate         1\n",
              "user_residence    179818\n",
              "ride_date              0\n",
              "time_start             0\n",
              "time_end           43212\n",
              "station_start          0\n",
              "station_end            0\n",
              "ride_duration      73064\n",
              "ride_late          73064\n",
              "dtype: int64"
            ]
          },
          "metadata": {
            "tags": []
          },
          "execution_count": 14
        }
      ]
    },
    {
      "cell_type": "code",
      "metadata": {
        "colab": {
          "base_uri": "https://localhost:8080/"
        },
        "id": "JOy11qPOjhE-",
        "outputId": "11cb7124-f0de-401e-d2e4-886a15068b52"
      },
      "source": [
        "#preencher valores ausentes de \"ride_duration\" com a mediana\r\n",
        "rd_median=df_clean.ride_duration.median()\r\n",
        "df_clean = df_clean.fillna({'ride_duration':rd_median})\r\n",
        "\r\n",
        "#ver valores\r\n",
        "\r\n",
        "df_clean.isnull().sum()"
      ],
      "execution_count": 16,
      "outputs": [
        {
          "output_type": "execute_result",
          "data": {
            "text/plain": [
              "user_gender            0\n",
              "user_birthdate         1\n",
              "user_residence    179818\n",
              "ride_date              0\n",
              "time_start             0\n",
              "time_end           43212\n",
              "station_start          0\n",
              "station_end            0\n",
              "ride_duration          0\n",
              "ride_late          73064\n",
              "dtype: int64"
            ]
          },
          "metadata": {
            "tags": []
          },
          "execution_count": 16
        }
      ]
    },
    {
      "cell_type": "code",
      "metadata": {
        "colab": {
          "base_uri": "https://localhost:8080/"
        },
        "id": "PGdglsIOlkbD",
        "outputId": "d12570bf-cbf3-49cd-ce48-869c36a1e123"
      },
      "source": [
        "#copiar novamente\r\n",
        "df_clean = df.copy()\r\n",
        "\r\n",
        "#ver valores ausentes\r\n",
        "df_clean.isnull().sum()"
      ],
      "execution_count": 17,
      "outputs": [
        {
          "output_type": "execute_result",
          "data": {
            "text/plain": [
              "user_gender          396\n",
              "user_birthdate         1\n",
              "user_residence    179905\n",
              "ride_date              0\n",
              "time_start             0\n",
              "time_end           43285\n",
              "station_start          0\n",
              "station_end            0\n",
              "ride_duration      73174\n",
              "ride_late          73174\n",
              "dtype: int64"
            ]
          },
          "metadata": {
            "tags": []
          },
          "execution_count": 17
        }
      ]
    },
    {
      "cell_type": "code",
      "metadata": {
        "colab": {
          "base_uri": "https://localhost:8080/"
        },
        "id": "4SKBn-Grl8kz",
        "outputId": "d6506714-8b83-40df-9597-ff48c4f1e46d"
      },
      "source": [
        "#ver o valor mais frequente\r\n",
        "df_clean.user_gender.value_counts()"
      ],
      "execution_count": 18,
      "outputs": [
        {
          "output_type": "execute_result",
          "data": {
            "text/plain": [
              "M    212608\n",
              "F     74318\n",
              "Name: user_gender, dtype: int64"
            ]
          },
          "metadata": {
            "tags": []
          },
          "execution_count": 18
        }
      ]
    },
    {
      "cell_type": "code",
      "metadata": {
        "colab": {
          "base_uri": "https://localhost:8080/"
        },
        "id": "wsvKENlrmM5W",
        "outputId": "5daa134a-b4e0-46f5-e35e-22fae9a1d589"
      },
      "source": [
        "#preencher valores ausentes com m\r\n",
        "df_clean = df_clean.fillna({'user_gender' : 'M'})\r\n",
        "\r\n",
        "#checando\r\n",
        "df_clean.isnull().sum()"
      ],
      "execution_count": 21,
      "outputs": [
        {
          "output_type": "execute_result",
          "data": {
            "text/plain": [
              "user_gender            0\n",
              "user_birthdate         1\n",
              "user_residence    179905\n",
              "ride_date              0\n",
              "time_start             0\n",
              "time_end           43285\n",
              "station_start          0\n",
              "station_end            0\n",
              "ride_duration      73174\n",
              "ride_late          73174\n",
              "dtype: int64"
            ]
          },
          "metadata": {
            "tags": []
          },
          "execution_count": 21
        }
      ]
    }
  ]
}