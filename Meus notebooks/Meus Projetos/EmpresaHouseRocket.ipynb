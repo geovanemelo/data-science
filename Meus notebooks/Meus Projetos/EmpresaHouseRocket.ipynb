{
  "nbformat": 4,
  "nbformat_minor": 0,
  "metadata": {
    "kernelspec": {
      "display_name": "Python 3",
      "language": "python",
      "name": "python3"
    },
    "language_info": {
      "codemirror_mode": {
        "name": "ipython",
        "version": 3
      },
      "file_extension": ".py",
      "mimetype": "text/x-python",
      "name": "python",
      "nbconvert_exporter": "python",
      "pygments_lexer": "ipython3",
      "version": "3.8.5"
    },
    "colab": {
      "name": "EmpresaHouseRocket.ipynb",
      "provenance": []
    }
  },
  "cells": [
    {
      "cell_type": "markdown",
      "metadata": {
        "id": "Yyn89krdFc6i"
      },
      "source": [
        ""
      ]
    },
    {
      "cell_type": "markdown",
      "metadata": {
        "id": "cF9qJs4mDyI1"
      },
      "source": [
        "\r\n",
        "**Empresa House Rocket**\r\n",
        "\r\n",
        "*os dados e informações desse estudo são ficticios. Tudo apresentado nesse notebook é de cunho estudantil*\r\n",
        "\r\n",
        "(em andamento)\r\n",
        "\r\n",
        "\r\n",
        "--------------------------------------------------------------------------------\r\n",
        "\r\n",
        "\r\n",
        "\r\n"
      ]
    },
    {
      "cell_type": "markdown",
      "metadata": {
        "id": "EqCUbtqFFGTz"
      },
      "source": [
        "\r\n",
        "# 1.0. Problema de negócio\r\n",
        "\r\n",
        "* **O que a empresa faz?**\r\n",
        "\r\n",
        "A House Rocket é uma plataforma de compras e venda de imóveis.\r\n",
        "\r\n",
        "\r\n",
        "* **Qual o problema?**\r\n",
        "\r\n",
        "O CEO da empresa gostaria de maximizar o lucro da empresa encontrando bons negócios.\r\n",
        "\r\n",
        "* **Qual a principal estrategia?**\r\n",
        "\r\n",
        "Fontes externas para enconstrar bons negócios.\r\n",
        "\r\n",
        "* **As perguntas do CEO:**\r\n",
        "\r\n",
        "1. Quantas casas estão disponiveis para compra?\r\n",
        "\r\n",
        "2. Quantos atributos as casas possuem? (nº de quartos, garagens, banheiros)\r\n",
        "\r\n",
        "3. Quais são os atributos?\r\n",
        "\r\n",
        "4. Qual a casa mais cara do portfólio? (casa com maior valor)\r\n",
        "\r\n",
        "5. Qual a casa com o maior número de quartos?\r\n",
        "\r\n",
        "\r\n",
        "\r\n",
        "\r\n",
        "\r\n"
      ]
    },
    {
      "cell_type": "markdown",
      "metadata": {
        "id": "I3RU74_tFCmh"
      },
      "source": [
        ""
      ]
    },
    {
      "cell_type": "markdown",
      "metadata": {
        "id": "SPJl4lC7KWwC"
      },
      "source": [
        "# 2.0. Planejamento da soluçao\r\n",
        "\r\n",
        "* 2.1. **Planejamento do PRODUTO FINAL.**\r\n",
        "\r\n",
        "1. O que eu vou entregar? (Planilha, Texto, Email, Modelos de ML etc).\r\n",
        "\r\n",
        "      Texto com as respostas\r\n",
        "\r\n",
        "2. Como vai ser a entrega?\r\n",
        "\r\n",
        "      Perguntas | Respostas\r\n",
        "\r\n",
        "* 2.2 **Planejamento do PROCESSO.**\r\n",
        "\r\n",
        "1. Onde está a informaçao? (Excel,BD,API)\r\n",
        "\r\n",
        "    https://www.kaggle.com/harlfoxem/housesalesprediction\r\n",
        "\r\n",
        "2. Como coletar essas informaçoes? (SQL, Python,Streamlit)\r\n",
        "\r\n",
        "    Download\r\n",
        "\r\n",
        "3. Responder as perguntas\r\n",
        "\r\n",
        "Quantas casas estão disponiveis para compra?\r\n",
        "\r\n",
        "r: Contar o numero de linhas do conjunto de dados.\r\n",
        "\r\n",
        "Quantos atributos as casas possuem? (nº de quartos, garagens, banheiros)\r\n",
        "\r\n",
        "r: Contar o numero de colunas do conjunto de dados.\r\n",
        "\r\n",
        "Quais são os atributos?\r\n",
        "\r\n",
        "r: Mostrar o nome das colunas.\r\n",
        "\r\n",
        "Qual a casa mais cara do portfólio? (casa com maior valor)\r\n",
        "\r\n",
        "r:Ordenar as linhas pela coluna de preço\r\n",
        "\r\n",
        "Qual a casa com o maior número de quartos?\r\n",
        "\r\n",
        "r: Ordenar o numero de linhas pela coluna de numero de quartos\r\n",
        "\r\n",
        "* 2.3 **Planejamento de FERRAMENTAS**\r\n",
        "\r\n",
        "1. Quais ferreamentas eu posso usar?\r\n",
        "\r\n",
        "- Excel\r\n",
        "\r\n",
        "Pros: Facil de usar; Barato; Muito Usados pelos times não tecnicos.\r\n",
        "\r\n",
        "Contras: Poder de proessamento limitado (1MM)\r\n",
        "\r\n",
        "-Linguagem de programaçao (Python)\r\n",
        "\r\n"
      ]
    },
    {
      "cell_type": "code",
      "metadata": {
        "id": "amNh2p-iU7pS"
      },
      "source": [
        "import pandas as pd"
      ],
      "execution_count": 1,
      "outputs": []
    }
  ]
}