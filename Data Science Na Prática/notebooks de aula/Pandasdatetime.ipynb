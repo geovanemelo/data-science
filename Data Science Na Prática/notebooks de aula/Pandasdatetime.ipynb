{
  "nbformat": 4,
  "nbformat_minor": 0,
  "metadata": {
    "colab": {
      "name": "Cópia de Untitled2.ipynb",
      "provenance": [],
      "authorship_tag": "ABX9TyN/81LbAeyAasG4cESCh2g6",
      "include_colab_link": true
    },
    "kernelspec": {
      "name": "python3",
      "display_name": "Python 3"
    }
  },
  "cells": [
    {
      "cell_type": "markdown",
      "metadata": {
        "id": "view-in-github",
        "colab_type": "text"
      },
      "source": [
        "<a href=\"https://colab.research.google.com/github/geovanemelo/data-science/blob/main/C%C3%B3pia_de_Untitled2.ipynb\" target=\"_parent\"><img src=\"https://colab.research.google.com/assets/colab-badge.svg\" alt=\"Open In Colab\"/></a>"
      ]
    },
    {
      "cell_type": "code",
      "metadata": {
        "id": "MFnQx4a5ROaB"
      },
      "source": [
        "import pandas as pd"
      ],
      "execution_count": null,
      "outputs": []
    },
    {
      "cell_type": "code",
      "metadata": {
        "id": "2DysItlxRTWu"
      },
      "source": [
        "#importando arquivo csv p/ pandas\r\n",
        "df = pd.read_csv(\"https://raw.githubusercontent.com/geovanemelo/data-science/main/Meus%20notebooks/Estudos/datasets/VALE3.SA.csv?token=AL6LDFFSAEWMVXCJUKCZ6VLAEPU5O\")"
      ],
      "execution_count": null,
      "outputs": []
    },
    {
      "cell_type": "code",
      "metadata": {
        "colab": {
          "base_uri": "https://localhost:8080/"
        },
        "id": "3visoHIVSPZU",
        "outputId": "df179845-7996-42de-b2d1-99448f18f190"
      },
      "source": [
        "df.info()"
      ],
      "execution_count": null,
      "outputs": [
        {
          "output_type": "stream",
          "text": [
            "<class 'pandas.core.frame.DataFrame'>\n",
            "RangeIndex: 248 entries, 0 to 247\n",
            "Data columns (total 7 columns):\n",
            " #   Column     Non-Null Count  Dtype  \n",
            "---  ------     --------------  -----  \n",
            " 0   Date       248 non-null    object \n",
            " 1   Open       247 non-null    float64\n",
            " 2   High       247 non-null    float64\n",
            " 3   Low        247 non-null    float64\n",
            " 4   Close      247 non-null    float64\n",
            " 5   Adj Close  247 non-null    float64\n",
            " 6   Volume     247 non-null    float64\n",
            "dtypes: float64(6), object(1)\n",
            "memory usage: 13.7+ KB\n"
          ],
          "name": "stdout"
        }
      ]
    },
    {
      "cell_type": "markdown",
      "metadata": {
        "id": "1UH07v_sSaGb"
      },
      "source": [
        "Vamos alterar o tipo da coluna Date, de object para datetime"
      ]
    },
    {
      "cell_type": "code",
      "metadata": {
        "colab": {
          "base_uri": "https://localhost:8080/"
        },
        "id": "4o78f_g0SgJX",
        "outputId": "e2d100b4-f96d-494e-dd29-9c314effb7fd"
      },
      "source": [
        "df.Date"
      ],
      "execution_count": null,
      "outputs": [
        {
          "output_type": "execute_result",
          "data": {
            "text/plain": [
              "0      2020-02-10\n",
              "1      2020-02-11\n",
              "2      2020-02-12\n",
              "3      2020-02-13\n",
              "4      2020-02-14\n",
              "          ...    \n",
              "243    2021-02-04\n",
              "244    2021-02-05\n",
              "245    2021-02-08\n",
              "246    2021-02-09\n",
              "247    2021-02-10\n",
              "Name: Date, Length: 248, dtype: object"
            ]
          },
          "metadata": {
            "tags": []
          },
          "execution_count": 8
        }
      ]
    },
    {
      "cell_type": "code",
      "metadata": {
        "id": "JdTNFeoLS3Qp"
      },
      "source": [
        "#convertendo p/ datatime\r\n",
        "df.Date = pd.to_datetime(df.Date, format=\"%Y-%m-%d\")"
      ],
      "execution_count": null,
      "outputs": []
    },
    {
      "cell_type": "code",
      "metadata": {
        "colab": {
          "base_uri": "https://localhost:8080/"
        },
        "id": "bu6rRTP8T2eC",
        "outputId": "42a166e7-37e9-45c3-f045-b9063c148ac7"
      },
      "source": [
        "df.Date"
      ],
      "execution_count": null,
      "outputs": [
        {
          "output_type": "execute_result",
          "data": {
            "text/plain": [
              "0     2020-02-10\n",
              "1     2020-02-11\n",
              "2     2020-02-12\n",
              "3     2020-02-13\n",
              "4     2020-02-14\n",
              "         ...    \n",
              "243   2021-02-04\n",
              "244   2021-02-05\n",
              "245   2021-02-08\n",
              "246   2021-02-09\n",
              "247   2021-02-10\n",
              "Name: Date, Length: 248, dtype: datetime64[ns]"
            ]
          },
          "metadata": {
            "tags": []
          },
          "execution_count": 14
        }
      ]
    },
    {
      "cell_type": "markdown",
      "metadata": {
        "id": "dXWpE2glT6Z5"
      },
      "source": [
        "Agora é possivel acessar individualmente os compontes das datas com o: `df.Date.dt`"
      ]
    },
    {
      "cell_type": "code",
      "metadata": {
        "colab": {
          "base_uri": "https://localhost:8080/"
        },
        "id": "8fGlvoU9UCLy",
        "outputId": "7d6bd7a8-f02a-48bd-fc4e-f8c7b65ec50b"
      },
      "source": [
        "print(\"Ano: \") #podendo ser mes(month),dia(day) ou qualquer outro componente que esteja na data\r\n",
        "df.Date.dt.year"
      ],
      "execution_count": null,
      "outputs": [
        {
          "output_type": "stream",
          "text": [
            "Ano: \n"
          ],
          "name": "stdout"
        },
        {
          "output_type": "execute_result",
          "data": {
            "text/plain": [
              "0      2020\n",
              "1      2020\n",
              "2      2020\n",
              "3      2020\n",
              "4      2020\n",
              "       ... \n",
              "243    2021\n",
              "244    2021\n",
              "245    2021\n",
              "246    2021\n",
              "247    2021\n",
              "Name: Date, Length: 248, dtype: int64"
            ]
          },
          "metadata": {
            "tags": []
          },
          "execution_count": 19
        }
      ]
    },
    {
      "cell_type": "markdown",
      "metadata": {
        "id": "uUP0U3C1UyzG"
      },
      "source": [
        "No entanto, há vários formatos que um usuário pode lançar como sendo datas. Você pode encontrar exemplos como:\r\n",
        "\r\n",
        "31/06/15\r\n",
        "31/06/2015\r\n",
        "31-6-15\r\n",
        "2015-6-31\r\n",
        "31 de junho de 2015"
      ]
    },
    {
      "cell_type": "code",
      "metadata": {
        "id": "VzevLmO4Uztd"
      },
      "source": [
        ""
      ],
      "execution_count": null,
      "outputs": []
    }
  ]
}