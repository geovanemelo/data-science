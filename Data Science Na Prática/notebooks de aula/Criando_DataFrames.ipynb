{
  "nbformat": 4,
  "nbformat_minor": 0,
  "metadata": {
    "colab": {
      "name": "Criando DataFrames",
      "provenance": [],
      "authorship_tag": "ABX9TyOfbPt7nw6W/KXnwXKg0zwu",
      "include_colab_link": true
    },
    "kernelspec": {
      "name": "python3",
      "display_name": "Python 3"
    }
  },
  "cells": [
    {
      "cell_type": "markdown",
      "metadata": {
        "id": "view-in-github",
        "colab_type": "text"
      },
      "source": [
        "<a href=\"https://colab.research.google.com/github/geovanemelo/data-science/blob/main/Criando_DataFrames.ipynb\" target=\"_parent\"><img src=\"https://colab.research.google.com/assets/colab-badge.svg\" alt=\"Open In Colab\"/></a>"
      ]
    },
    {
      "cell_type": "markdown",
      "metadata": {
        "id": "1LX0IJjMv_PU"
      },
      "source": [
        "#Criação de df com dicionarios\r\n",
        "\r\n",
        "Uma das estruturas básicas do Python é o Dicionario: A sua converão p/ DataFrame é simples e direta\r\n"
      ]
    },
    {
      "cell_type": "code",
      "metadata": {
        "id": "vcvc0kvBwdZu"
      },
      "source": [
        "#Importando pandas\r\n",
        "\r\n",
        "import pandas as pd"
      ],
      "execution_count": null,
      "outputs": []
    },
    {
      "cell_type": "code",
      "metadata": {
        "id": "7tkLoNNkwoCt"
      },
      "source": [
        "#Criando dicionarios\r\n",
        "\r\n",
        "dados_dict = {\r\n",
        "    \"nome\": [\"Lucas\", \"Miguel\", \"Leoni\",\"Felipe\"],\r\n",
        "    \"idade\": [14,15,13,15],\r\n",
        "    \"cidade\": [\"São Paulo\",\"Piaui\",\"Olinda\",\"Las Vegas\"],\r\n",
        "    \"comprou\": [True,False,False,True]\r\n",
        "\r\n",
        "}"
      ],
      "execution_count": null,
      "outputs": []
    },
    {
      "cell_type": "code",
      "metadata": {
        "colab": {
          "base_uri": "https://localhost:8080/"
        },
        "id": "-uJ743gbxfRm",
        "outputId": "0522c65d-168a-4a98-ac60-aec5aa492cda"
      },
      "source": [
        "dados_dict"
      ],
      "execution_count": null,
      "outputs": [
        {
          "output_type": "execute_result",
          "data": {
            "text/plain": [
              "{'cidade': ['São Paulo', 'Piaui', 'Olinda', 'Las Vegas'],\n",
              " 'comprou': [True, False, False, True],\n",
              " 'idade': [14, 15, 13, 15],\n",
              " 'nome': ['Lucas', 'Miguel', 'Leoni', 'Felipe']}"
            ]
          },
          "metadata": {
            "tags": []
          },
          "execution_count": 5
        }
      ]
    },
    {
      "cell_type": "code",
      "metadata": {
        "id": "uFFFcWWSxpAi"
      },
      "source": [
        "#criar df\r\n",
        "df = pd.DataFrame(dados_dict)"
      ],
      "execution_count": null,
      "outputs": []
    },
    {
      "cell_type": "code",
      "metadata": {
        "id": "OvJlec1Ux6ru"
      },
      "source": [
        "#Criar id do usuário\r\n",
        "id_usuario = [341,212,587,477]"
      ],
      "execution_count": null,
      "outputs": []
    },
    {
      "cell_type": "code",
      "metadata": {
        "id": "Z1wrGEu3yLm_"
      },
      "source": [
        "# associar o id do usuário a lista\r\n",
        "df.index = id_usuario"
      ],
      "execution_count": null,
      "outputs": []
    },
    {
      "cell_type": "code",
      "metadata": {
        "colab": {
          "base_uri": "https://localhost:8080/",
          "height": 173
        },
        "id": "kdYDPgGsyjgT",
        "outputId": "7c8a2b38-ecc4-4034-d2d8-9e0292b1ba0e"
      },
      "source": [
        "df"
      ],
      "execution_count": null,
      "outputs": [
        {
          "output_type": "execute_result",
          "data": {
            "text/html": [
              "<div>\n",
              "<style scoped>\n",
              "    .dataframe tbody tr th:only-of-type {\n",
              "        vertical-align: middle;\n",
              "    }\n",
              "\n",
              "    .dataframe tbody tr th {\n",
              "        vertical-align: top;\n",
              "    }\n",
              "\n",
              "    .dataframe thead th {\n",
              "        text-align: right;\n",
              "    }\n",
              "</style>\n",
              "<table border=\"1\" class=\"dataframe\">\n",
              "  <thead>\n",
              "    <tr style=\"text-align: right;\">\n",
              "      <th></th>\n",
              "      <th>nome</th>\n",
              "      <th>idade</th>\n",
              "      <th>cidade</th>\n",
              "      <th>comprou</th>\n",
              "    </tr>\n",
              "  </thead>\n",
              "  <tbody>\n",
              "    <tr>\n",
              "      <th>341</th>\n",
              "      <td>Lucas</td>\n",
              "      <td>14</td>\n",
              "      <td>São Paulo</td>\n",
              "      <td>True</td>\n",
              "    </tr>\n",
              "    <tr>\n",
              "      <th>212</th>\n",
              "      <td>Miguel</td>\n",
              "      <td>15</td>\n",
              "      <td>Piaui</td>\n",
              "      <td>False</td>\n",
              "    </tr>\n",
              "    <tr>\n",
              "      <th>587</th>\n",
              "      <td>Leoni</td>\n",
              "      <td>13</td>\n",
              "      <td>Olinda</td>\n",
              "      <td>False</td>\n",
              "    </tr>\n",
              "    <tr>\n",
              "      <th>477</th>\n",
              "      <td>Felipe</td>\n",
              "      <td>15</td>\n",
              "      <td>Las Vegas</td>\n",
              "      <td>True</td>\n",
              "    </tr>\n",
              "  </tbody>\n",
              "</table>\n",
              "</div>"
            ],
            "text/plain": [
              "       nome  idade     cidade  comprou\n",
              "341   Lucas     14  São Paulo     True\n",
              "212  Miguel     15      Piaui    False\n",
              "587   Leoni     13     Olinda    False\n",
              "477  Felipe     15  Las Vegas     True"
            ]
          },
          "metadata": {
            "tags": []
          },
          "execution_count": 14
        }
      ]
    },
    {
      "cell_type": "code",
      "metadata": {
        "colab": {
          "base_uri": "https://localhost:8080/"
        },
        "id": "39w6NqbNymJ5",
        "outputId": "e459114e-6114-4abe-9bf7-a973ddb29280"
      },
      "source": [
        "# selecionar por id\r\n",
        "df.loc[477]"
      ],
      "execution_count": null,
      "outputs": [
        {
          "output_type": "execute_result",
          "data": {
            "text/plain": [
              "nome          Felipe\n",
              "idade             15\n",
              "cidade     Las Vegas\n",
              "comprou         True\n",
              "Name: 477, dtype: object"
            ]
          },
          "metadata": {
            "tags": []
          },
          "execution_count": 16
        }
      ]
    },
    {
      "cell_type": "markdown",
      "metadata": {
        "id": "u3GstKvAyu1S"
      },
      "source": [
        "#Criação de dfs com Listas\r\n",
        "\r\n",
        "Outra estrutura muito usuada em py, que pode ser convertidada para df\r\n",
        "Para facilitar a conversão, usa-se a função built-in zip()."
      ]
    },
    {
      "cell_type": "code",
      "metadata": {
        "id": "dB9_zJ7jzb_H"
      },
      "source": [
        "# listas\r\n",
        "dados_lista = [[\"Carlos\",35,\"Araruama\",True],[\"Fernando\",31,\"Natal\",False],[\"Theo\",14,\"Fortaleza\",False],[\"Felipe\",54,\"Orlando\",True]]"
      ],
      "execution_count": null,
      "outputs": []
    },
    {
      "cell_type": "code",
      "metadata": {
        "id": "6O6N4r8C0HS_"
      },
      "source": [
        "# criando df\r\n",
        "df = pd.DataFrame(dados_lista, columns=['cidade','idade','cidade','comprou'])\r\n",
        "df.index = ['a','b','c','d']"
      ],
      "execution_count": null,
      "outputs": []
    },
    {
      "cell_type": "code",
      "metadata": {
        "colab": {
          "base_uri": "https://localhost:8080/",
          "height": 173
        },
        "id": "R_3N9UpW0ip1",
        "outputId": "ea52796b-9434-4788-8123-5fc96a69548d"
      },
      "source": [
        "df"
      ],
      "execution_count": null,
      "outputs": [
        {
          "output_type": "execute_result",
          "data": {
            "text/html": [
              "<div>\n",
              "<style scoped>\n",
              "    .dataframe tbody tr th:only-of-type {\n",
              "        vertical-align: middle;\n",
              "    }\n",
              "\n",
              "    .dataframe tbody tr th {\n",
              "        vertical-align: top;\n",
              "    }\n",
              "\n",
              "    .dataframe thead th {\n",
              "        text-align: right;\n",
              "    }\n",
              "</style>\n",
              "<table border=\"1\" class=\"dataframe\">\n",
              "  <thead>\n",
              "    <tr style=\"text-align: right;\">\n",
              "      <th></th>\n",
              "      <th>cidade</th>\n",
              "      <th>idade</th>\n",
              "      <th>cidade</th>\n",
              "      <th>comprou</th>\n",
              "    </tr>\n",
              "  </thead>\n",
              "  <tbody>\n",
              "    <tr>\n",
              "      <th>a</th>\n",
              "      <td>Carlos</td>\n",
              "      <td>35</td>\n",
              "      <td>Araruama</td>\n",
              "      <td>True</td>\n",
              "    </tr>\n",
              "    <tr>\n",
              "      <th>b</th>\n",
              "      <td>Fernando</td>\n",
              "      <td>31</td>\n",
              "      <td>Natal</td>\n",
              "      <td>False</td>\n",
              "    </tr>\n",
              "    <tr>\n",
              "      <th>c</th>\n",
              "      <td>Theo</td>\n",
              "      <td>14</td>\n",
              "      <td>Fortaleza</td>\n",
              "      <td>False</td>\n",
              "    </tr>\n",
              "    <tr>\n",
              "      <th>d</th>\n",
              "      <td>Felipe</td>\n",
              "      <td>54</td>\n",
              "      <td>Orlando</td>\n",
              "      <td>True</td>\n",
              "    </tr>\n",
              "  </tbody>\n",
              "</table>\n",
              "</div>"
            ],
            "text/plain": [
              "     cidade  idade     cidade  comprou\n",
              "a    Carlos     35   Araruama     True\n",
              "b  Fernando     31      Natal    False\n",
              "c      Theo     14  Fortaleza    False\n",
              "d    Felipe     54    Orlando     True"
            ]
          },
          "metadata": {
            "tags": []
          },
          "execution_count": 22
        }
      ]
    },
    {
      "cell_type": "markdown",
      "metadata": {
        "id": "Xsyih9RY0vYz"
      },
      "source": [
        "#Criando nova coluna\r\n",
        "Extramemente conveniente, uma funcionalidade conhecida como broadcasting\r\n",
        "\r\n"
      ]
    },
    {
      "cell_type": "code",
      "metadata": {
        "id": "x4Hoxab608HU"
      },
      "source": [
        "# criar coluna \"saldo\"\r\n",
        "df ['saldo'] = 0.0\r\n"
      ],
      "execution_count": null,
      "outputs": []
    },
    {
      "cell_type": "code",
      "metadata": {
        "colab": {
          "base_uri": "https://localhost:8080/",
          "height": 173
        },
        "id": "S3vVBVdH1Jtk",
        "outputId": "552c34c5-28e0-42c3-96c7-2ede1e4e68eb"
      },
      "source": [
        "df"
      ],
      "execution_count": null,
      "outputs": [
        {
          "output_type": "execute_result",
          "data": {
            "text/html": [
              "<div>\n",
              "<style scoped>\n",
              "    .dataframe tbody tr th:only-of-type {\n",
              "        vertical-align: middle;\n",
              "    }\n",
              "\n",
              "    .dataframe tbody tr th {\n",
              "        vertical-align: top;\n",
              "    }\n",
              "\n",
              "    .dataframe thead th {\n",
              "        text-align: right;\n",
              "    }\n",
              "</style>\n",
              "<table border=\"1\" class=\"dataframe\">\n",
              "  <thead>\n",
              "    <tr style=\"text-align: right;\">\n",
              "      <th></th>\n",
              "      <th>cidade</th>\n",
              "      <th>idade</th>\n",
              "      <th>cidade</th>\n",
              "      <th>comprou</th>\n",
              "      <th>saldo</th>\n",
              "    </tr>\n",
              "  </thead>\n",
              "  <tbody>\n",
              "    <tr>\n",
              "      <th>a</th>\n",
              "      <td>Carlos</td>\n",
              "      <td>35</td>\n",
              "      <td>Araruama</td>\n",
              "      <td>True</td>\n",
              "      <td>0.0</td>\n",
              "    </tr>\n",
              "    <tr>\n",
              "      <th>b</th>\n",
              "      <td>Fernando</td>\n",
              "      <td>31</td>\n",
              "      <td>Natal</td>\n",
              "      <td>False</td>\n",
              "      <td>0.0</td>\n",
              "    </tr>\n",
              "    <tr>\n",
              "      <th>c</th>\n",
              "      <td>Theo</td>\n",
              "      <td>14</td>\n",
              "      <td>Fortaleza</td>\n",
              "      <td>False</td>\n",
              "      <td>0.0</td>\n",
              "    </tr>\n",
              "    <tr>\n",
              "      <th>d</th>\n",
              "      <td>Felipe</td>\n",
              "      <td>54</td>\n",
              "      <td>Orlando</td>\n",
              "      <td>True</td>\n",
              "      <td>0.0</td>\n",
              "    </tr>\n",
              "  </tbody>\n",
              "</table>\n",
              "</div>"
            ],
            "text/plain": [
              "     cidade  idade     cidade  comprou  saldo\n",
              "a    Carlos     35   Araruama     True    0.0\n",
              "b  Fernando     31      Natal    False    0.0\n",
              "c      Theo     14  Fortaleza    False    0.0\n",
              "d    Felipe     54    Orlando     True    0.0"
            ]
          },
          "metadata": {
            "tags": []
          },
          "execution_count": 24
        }
      ]
    },
    {
      "cell_type": "markdown",
      "metadata": {
        "id": "s_8Z9GPq1Lmj"
      },
      "source": [
        ""
      ]
    }
  ]
}